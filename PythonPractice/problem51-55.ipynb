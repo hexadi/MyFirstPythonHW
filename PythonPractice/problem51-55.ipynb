{
 "cells": [
  {
   "cell_type": "markdown",
   "metadata": {},
   "source": [
    "# Python Practice Book 51-55"
   ]
  },
  {
   "cell_type": "markdown",
   "metadata": {},
   "source": [
    "Tawan Kriangkraiwanich, 4 Oct 2020."
   ]
  },
  {
   "cell_type": "markdown",
   "metadata": {},
   "source": [
    "## Problem 51"
   ]
  },
  {
   "cell_type": "code",
   "execution_count": 1,
   "metadata": {},
   "outputs": [],
   "source": [
    "def permu(array):\n",
    "        if (len(array) == 0):\n",
    "            return []\n",
    "        elif (len(array) == 1):\n",
    "            return [array]\n",
    "        result = []\n",
    "        for i in range(len(array)):\n",
    "            select_n = array[i]\n",
    "            n_arr = list(array)\n",
    "            n_arr.remove(select_n)\n",
    "            for new_arr in permu(n_arr):\n",
    "                result.append([select_n] + new_arr)\n",
    "        return result"
   ]
  },
  {
   "cell_type": "code",
   "execution_count": 2,
   "metadata": {},
   "outputs": [],
   "source": [
    "def mutate(text):\n",
    "    res = set([text])\n",
    "    en = [char for char in \"abcdefghijklmnopqrstuvwxyz\"]\n",
    "    char = [char for char in text]\n",
    "    for i in permu(char):\n",
    "        res.add(''.join(i))\n",
    "    for c in range(len(char)):\n",
    "        cha_clone1 = char.copy()\n",
    "        res.add(''.join(cha_clone1))\n",
    "        cha_clone3 = char.copy()\n",
    "        cha_clone3.remove(cha_clone3[c])\n",
    "        for i in permu(cha_clone3):\n",
    "            res.add(''.join(i))\n",
    "        for i in en:\n",
    "            cha_clone1[c] = i\n",
    "            cha_clone2 = char.copy()\n",
    "            cha_clone2.append(i)\n",
    "            for s in permu(cha_clone1):\n",
    "                res.add(''.join(s))\n",
    "            for e in permu(cha_clone2):\n",
    "                res.add(''.join(e))\n",
    "    return res"
   ]
  },
  {
   "cell_type": "code",
   "execution_count": 3,
   "metadata": {},
   "outputs": [],
   "source": [
    "word = mutate(\"hello\")"
   ]
  },
  {
   "cell_type": "code",
   "execution_count": 4,
   "metadata": {},
   "outputs": [
    {
     "data": {
      "text/plain": [
       "True"
      ]
     },
     "execution_count": 4,
     "metadata": {},
     "output_type": "execute_result"
    }
   ],
   "source": [
    "'helo' in word"
   ]
  },
  {
   "cell_type": "code",
   "execution_count": 5,
   "metadata": {},
   "outputs": [
    {
     "data": {
      "text/plain": [
       "True"
      ]
     },
     "execution_count": 5,
     "metadata": {},
     "output_type": "execute_result"
    }
   ],
   "source": [
    "'cello' in word"
   ]
  },
  {
   "cell_type": "code",
   "execution_count": 6,
   "metadata": {},
   "outputs": [
    {
     "data": {
      "text/plain": [
       "True"
      ]
     },
     "execution_count": 6,
     "metadata": {},
     "output_type": "execute_result"
    }
   ],
   "source": [
    "'helol' in word"
   ]
  },
  {
   "cell_type": "markdown",
   "metadata": {},
   "source": [
    "## Problem 52"
   ]
  },
  {
   "cell_type": "code",
   "execution_count": 7,
   "metadata": {},
   "outputs": [],
   "source": [
    "def nearly_equal(text1,text2):\n",
    "    return text2 in mutate(text1)"
   ]
  },
  {
   "cell_type": "code",
   "execution_count": 8,
   "metadata": {},
   "outputs": [
    {
     "data": {
      "text/plain": [
       "False"
      ]
     },
     "execution_count": 8,
     "metadata": {},
     "output_type": "execute_result"
    }
   ],
   "source": [
    "nearly_equal('python', 'perl')"
   ]
  },
  {
   "cell_type": "code",
   "execution_count": 9,
   "metadata": {},
   "outputs": [
    {
     "data": {
      "text/plain": [
       "True"
      ]
     },
     "execution_count": 9,
     "metadata": {},
     "output_type": "execute_result"
    }
   ],
   "source": [
    "nearly_equal('perl', 'pearl')"
   ]
  },
  {
   "cell_type": "code",
   "execution_count": 10,
   "metadata": {},
   "outputs": [
    {
     "data": {
      "text/plain": [
       "True"
      ]
     },
     "execution_count": 10,
     "metadata": {},
     "output_type": "execute_result"
    }
   ],
   "source": [
    "nearly_equal('python', 'jython')"
   ]
  },
  {
   "cell_type": "code",
   "execution_count": 11,
   "metadata": {},
   "outputs": [
    {
     "data": {
      "text/plain": [
       "False"
      ]
     },
     "execution_count": 11,
     "metadata": {},
     "output_type": "execute_result"
    }
   ],
   "source": [
    "nearly_equal('man', 'woman')"
   ]
  },
  {
   "cell_type": "markdown",
   "metadata": {},
   "source": [
    "## Problem 53"
   ]
  },
  {
   "cell_type": "code",
   "execution_count": 12,
   "metadata": {},
   "outputs": [],
   "source": [
    "def word_frequency(words):\n",
    "    \"\"\" Returns frequency of each word given a list of words.\n",
    "        >>> word_frequency(['a', 'b', 'a'])\n",
    "        {'a': 2, 'b': 1}\n",
    "    \"\"\"\n",
    "    frequency = {}\n",
    "    for w in words:\n",
    "        frequency[w] = frequency.get(w, 0) + 1\n",
    "    return frequency"
   ]
  },
  {
   "cell_type": "code",
   "execution_count": 13,
   "metadata": {},
   "outputs": [],
   "source": [
    "def read_words(filename):\n",
    "    return open(filename).read().split()"
   ]
  },
  {
   "cell_type": "code",
   "execution_count": 14,
   "metadata": {},
   "outputs": [
    {
     "name": "stdout",
     "output_type": "stream",
     "text": [
      "she.txt\n",
      "sells 3\n",
      "seashells 3\n",
      "the 3\n",
      "on 2\n",
      "shells 2\n",
      "that 2\n",
      "she 2\n",
      "are 2\n",
      "I'm 2\n",
      "She 1\n",
      "seashore; 1\n",
      "The 1\n",
      "sure. 1\n",
      "So 1\n",
      "if 1\n",
      "seashore, 1\n",
      "sure 1\n",
      "seashore 1\n",
      "shells. 1\n"
     ]
    }
   ],
   "source": [
    "def main(filename):\n",
    "    frequency = word_frequency(read_words(filename))\n",
    "    for word, count in sorted(frequency.items() ,key = lambda x: x[1] ,reverse = True):\n",
    "        print(word, count)\n",
    "\n",
    "main(input())"
   ]
  },
  {
   "cell_type": "markdown",
   "metadata": {},
   "source": [
    "## Problem 54"
   ]
  },
  {
   "cell_type": "code",
   "execution_count": null,
   "metadata": {},
   "outputs": [],
   "source": []
  },
  {
   "cell_type": "markdown",
   "metadata": {},
   "source": [
    "## Problem 55"
   ]
  },
  {
   "cell_type": "code",
   "execution_count": 15,
   "metadata": {},
   "outputs": [],
   "source": [
    "def anagrams(lst):\n",
    "    res = []\n",
    "    for item in lst:\n",
    "        new_list = [item]\n",
    "        perm = permu([n for n in item])\n",
    "        for i in lst:\n",
    "            for e in perm:\n",
    "                if (i in ''.join(e) and i not in new_list):\n",
    "                    new_list.append(i)\n",
    "                    lst.remove(i)\n",
    "        res.append(new_list)\n",
    "    return res"
   ]
  },
  {
   "cell_type": "code",
   "execution_count": 16,
   "metadata": {},
   "outputs": [
    {
     "data": {
      "text/plain": [
       "[['eat', 'ate', 'tea'], ['done', 'node'], ['soup']]"
      ]
     },
     "execution_count": 16,
     "metadata": {},
     "output_type": "execute_result"
    }
   ],
   "source": [
    "anagrams(['eat', 'ate', 'done', 'tea', 'soup', 'node'])"
   ]
  },
  {
   "cell_type": "code",
   "execution_count": null,
   "metadata": {},
   "outputs": [],
   "source": []
  }
 ],
 "metadata": {
  "kernelspec": {
   "display_name": "Python 3",
   "language": "python",
   "name": "python3"
  },
  "language_info": {
   "codemirror_mode": {
    "name": "ipython",
    "version": 3
   },
   "file_extension": ".py",
   "mimetype": "text/x-python",
   "name": "python",
   "nbconvert_exporter": "python",
   "pygments_lexer": "ipython3",
   "version": "3.8.5"
  }
 },
 "nbformat": 4,
 "nbformat_minor": 4
}
