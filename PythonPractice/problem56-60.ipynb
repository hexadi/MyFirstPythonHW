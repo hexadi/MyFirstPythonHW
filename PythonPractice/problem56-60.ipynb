{
 "cells": [
  {
   "cell_type": "markdown",
   "metadata": {},
   "source": [
    "# Python Practice Book 56-60"
   ]
  },
  {
   "cell_type": "markdown",
   "metadata": {},
   "source": [
    "Tawan Kriangkraiwanich, 4 Oct 2020."
   ]
  },
  {
   "cell_type": "markdown",
   "metadata": {},
   "source": [
    "## Problem 56"
   ]
  },
  {
   "cell_type": "code",
   "execution_count": 1,
   "metadata": {},
   "outputs": [],
   "source": [
    "def valuesort(dic):\n",
    "    return [value for key,value in sorted(dic.items())]"
   ]
  },
  {
   "cell_type": "code",
   "execution_count": 2,
   "metadata": {},
   "outputs": [
    {
     "data": {
      "text/plain": [
       "[3, 1, 2]"
      ]
     },
     "execution_count": 2,
     "metadata": {},
     "output_type": "execute_result"
    }
   ],
   "source": [
    "valuesort({'x': 1, 'y': 2, 'a': 3})"
   ]
  },
  {
   "cell_type": "markdown",
   "metadata": {},
   "source": [
    "## Problem 57"
   ]
  },
  {
   "cell_type": "code",
   "execution_count": 3,
   "metadata": {},
   "outputs": [],
   "source": [
    "def invertdict(dic):\n",
    "    dicts = dict()\n",
    "    for key,value in dic.items():\n",
    "        dicts[value] = key\n",
    "    return dicts"
   ]
  },
  {
   "cell_type": "code",
   "execution_count": 4,
   "metadata": {},
   "outputs": [
    {
     "data": {
      "text/plain": [
       "{1: 'x', 2: 'y', 3: 'z'}"
      ]
     },
     "execution_count": 4,
     "metadata": {},
     "output_type": "execute_result"
    }
   ],
   "source": [
    "invertdict({'x': 1, 'y': 2, 'z': 3})"
   ]
  },
  {
   "cell_type": "markdown",
   "metadata": {},
   "source": [
    "## Problem 58"
   ]
  },
  {
   "cell_type": "code",
   "execution_count": 5,
   "metadata": {},
   "outputs": [
    {
     "name": "stdout",
     "output_type": "stream",
     "text": [
      ".git\n",
      ".ipynb_checkpoints\n",
      "a.txt\n",
      "debug.log\n",
      "example.csv\n",
      "headtail.txt\n",
      "problem1-10.ipynb\n",
      "problem11-20.ipynb\n",
      "problem21-25.ipynb\n",
      "problem26-30.ipynb\n",
      "problem31-35.ipynb\n",
      "problem36-40.ipynb\n",
      "problem41-45.ipynb\n",
      "problem46-50.ipynb\n",
      "problem51-55.ipynb\n",
      "problem56-60.ipynb\n",
      "she.txt\n"
     ]
    }
   ],
   "source": [
    "import os\n",
    "[print(item) for item in os.listdir()];"
   ]
  },
  {
   "cell_type": "markdown",
   "metadata": {},
   "source": [
    "## Problem 59"
   ]
  },
  {
   "cell_type": "code",
   "execution_count": 6,
   "metadata": {},
   "outputs": [
    {
     "name": "stdout",
     "output_type": "stream",
     "text": [
      "./\n",
      "1 git\n",
      "1 ipynb_checkpoints\n",
      "3 txt\n",
      "1 log\n",
      "1 csv\n",
      "10 ipynb\n"
     ]
    }
   ],
   "source": [
    "filepath = input()\n",
    "path = dict()\n",
    "for item in os.listdir(filepath):\n",
    "    item = item.split(\".\")\n",
    "    if item[1] in path:\n",
    "        path[item[1]] += 1\n",
    "    else:\n",
    "        path[item[1]] = 1\n",
    "[print(count, name) for name, count in path.items()];"
   ]
  },
  {
   "cell_type": "markdown",
   "metadata": {},
   "source": [
    "## Problem 60"
   ]
  },
  {
   "cell_type": "code",
   "execution_count": 7,
   "metadata": {},
   "outputs": [
    {
     "name": "stdout",
     "output_type": "stream",
     "text": [
      "./\n",
      ".git 4096 Thu Oct  8 21:49:15 2020\n",
      ".ipynb_checkpoints 4096 Tue Oct 27 21:59:55 2020\n",
      "a.txt 80 Sun Oct  4 12:37:27 2020\n",
      "debug.log 67 Thu Oct 15 10:00:19 2020\n",
      "example.csv 23 Sun Oct  4 12:34:08 2020\n",
      "headtail.txt 65 Sun Oct  4 09:04:00 2020\n",
      "problem1-10.ipynb 8750 Wed Oct 28 09:31:20 2020\n",
      "problem11-20.ipynb 6924 Wed Oct 28 09:31:47 2020\n",
      "problem21-25.ipynb 4182 Wed Oct 28 09:31:57 2020\n",
      "problem26-30.ipynb 4674 Thu Oct 15 17:08:33 2020\n",
      "problem31-35.ipynb 5400 Wed Oct 28 09:30:51 2020\n",
      "problem36-40.ipynb 4753 Wed Oct 28 09:33:34 2020\n",
      "problem41-45.ipynb 3178 Wed Oct 28 09:34:09 2020\n",
      "problem46-50.ipynb 4326 Wed Oct 28 09:35:00 2020\n",
      "problem51-55.ipynb 8881 Wed Oct 28 09:27:02 2020\n",
      "problem56-60.ipynb 5174 Mon Oct  5 12:29:05 2020\n",
      "she.txt 175 Sun Oct  4 08:59:07 2020\n"
     ]
    }
   ],
   "source": [
    "import time\n",
    "filepath = input()\n",
    "path = dict()\n",
    "for item in os.listdir(filepath):\n",
    "    stat = os.stat(os.path.join(filepath,item))\n",
    "    print(item, stat.st_size, time.ctime(stat.st_mtime))"
   ]
  },
  {
   "cell_type": "code",
   "execution_count": null,
   "metadata": {},
   "outputs": [],
   "source": []
  }
 ],
 "metadata": {
  "kernelspec": {
   "display_name": "Python 3",
   "language": "python",
   "name": "python3"
  },
  "language_info": {
   "codemirror_mode": {
    "name": "ipython",
    "version": 3
   },
   "file_extension": ".py",
   "mimetype": "text/x-python",
   "name": "python",
   "nbconvert_exporter": "python",
   "pygments_lexer": "ipython3",
   "version": "3.8.5"
  }
 },
 "nbformat": 4,
 "nbformat_minor": 4
}
